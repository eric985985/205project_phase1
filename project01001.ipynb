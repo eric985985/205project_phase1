{
 "cells": [
  {
   "cell_type": "code",
   "execution_count": null,
   "id": "781ab7f4",
   "metadata": {},
   "outputs": [],
   "source": [
    "import treenode as TreeNode\n",
    "import heapq as min_heap_esque_queue  # 行为类似于最小堆的堆队列\n",
    "\n",
    "# 内置的几种拼图，便于快速测试\n",
    "trivial = [[1, 2, 3],\n",
    "           [4, 5, 6],\n",
    "           [7, 8, 0]]\n",
    "veryEasy = [[1, 2, 3],\n",
    "            [4, 5, 6],\n",
    "            [7, 0, 8]]\n",
    "easy = [[1, 2, 0],\n",
    "        [4, 5, 3],\n",
    "        [7, 8, 6]]\n",
    "doable = [[0, 1, 2],\n",
    "          [4, 5, 3],\n",
    "          [7, 8, 6]]\n",
    "oh_boy = [[8, 7, 1],\n",
    "          [6, 0, 2],\n",
    "          [5, 4, 3]]\n",
    "eight_goal_state = [[1, 2, 3],\n",
    "                    [4, 5, 6],\n",
    "                    [7, 8, 0]]\n",
    "\n",
    "def main():\n",
    "    puzzle_mode = input(\"Welcome to an 8-Puzzle Solver. Type '1' to use a default puzzle, or '2' to create your own.\\n\")\n",
    "    if puzzle_mode == \"1\":\n",
    "        select_and_init_algorithm(init_default_puzzle_mode())\n",
    "    elif puzzle_mode == \"2\":\n",
    "        print(\"Enter your puzzle, using a zero to represent the blank. \" +\n",
    "              \"Please only enter valid 8-puzzles. Enter the puzzle delimiting \" +\n",
    "              \"the numbers with a space. Press RETURN only when finished.\\n\")\n",
    "        puzzle_row_one = input(\"Enter the first row: \").split()\n",
    "        puzzle_row_two = input(\"Enter the second row: \").split()\n",
    "        puzzle_row_three = input(\"Enter the third row: \").split()\n",
    "\n",
    "        # Convert input strings to integers\n",
    "        user_puzzle = [list(map(int, puzzle_row_one)),\n",
    "                       list(map(int, puzzle_row_two)),\n",
    "                       list(map(int, puzzle_row_three))]\n",
    "        select_and_init_algorithm(user_puzzle)\n",
    "\n",
    "def init_default_puzzle_mode():\n",
    "    selected_difficulty = input(\"You wish to use a default puzzle. Please enter a desired difficulty on a scale from 0 to 5.\\n\")\n",
    "    difficulty_options = [trivial, veryEasy, easy, doable, oh_boy, 'Impossible']\n",
    "    difficulty_levels = [\"Trivial\", \"Very Easy\", \"Easy\", \"Doable\", \"Oh Boy\", \"Impossible\"]\n",
    "    selected_index = int(selected_difficulty)\n",
    "    print(f\"Difficulty of '{difficulty_levels[selected_index]}' selected.\")\n",
    "    return difficulty_options[selected_index]\n",
    "\n",
    "def print_puzzle(puzzle):\n",
    "    for row in puzzle:\n",
    "        print(\" \".join(map(str, row)))\n",
    "    print('\\n')\n",
    "\n",
    "def select_and_init_algorithm(puzzle):\n",
    "    algorithm = input(\"Select algorithm. (1) for Uniform Cost Search, (2) for the Misplaced Tile Heuristic, \" +\n",
    "                      \"or (3) for the Manhattan Distance Heuristic.\\n\")\n",
    "    uniform_cost_search(puzzle, int(algorithm) - 1)\n",
    "\n",
    "def uniform_cost_search(puzzle, heuristic):\n",
    "    starting_node = TreeNode.TreeNode(None, puzzle, 0, 0)\n",
    "    working_queue = []\n",
    "    repeated_states = {}\n",
    "    min_heap_esque_queue.heappush(working_queue, starting_node)\n",
    "    num_nodes_expanded = 0\n",
    "    max_queue_size = 0\n",
    "    while working_queue:\n",
    "        max_queue_size = max(len(working_queue), max_queue_size)\n",
    "        node_from_queue = min_heap_esque_queue.heappop(working_queue)\n",
    "        if node_from_queue.solved():  # check if the current state of the board is the solution\n",
    "            while working_queue:\n",
    "                print_puzzle(working_queue.pop().board)\n",
    "            print(\"Number of nodes expanded:\", num_nodes_expanded)\n",
    "            print(\"Max queue size:\", max_queue_size)\n",
    "            return node_from_queue\n",
    "        num_nodes_expanded += 1\n",
    "        for neighbor in node_from_queue.expand():\n",
    "            if neighbor.board_to_tuple() not in repeated_states:\n",
    "                min_heap_esque_queue.heappush(working_queue, neighbor)\n",
    "                repeated_states[neighbor.board_to_tuple()] = True\n"
   ]
  },
  {
   "cell_type": "code",
   "execution_count": null,
   "id": "8831b80f",
   "metadata": {},
   "outputs": [],
   "source": [
    "main()"
   ]
  },
  {
   "cell_type": "code",
   "execution_count": 1,
   "metadata": {},
   "outputs": [],
   "source": [
    "import treenode as TreeNode\n",
    "import heapq as min_heap_esque_queue # because it sort of acts like a min heap"
   ]
  },
  {
   "cell_type": "code",
   "execution_count": 2,
   "id": "d8c47503",
   "metadata": {},
   "outputs": [],
   "source": [
    "# Below are some built-in puzzles to allow quick testing.\n",
    "trivial = [[1, 2, 3], \n",
    "           [4, 5, 6],\n",
    "           [7, 8, 0]]\n",
    "\n",
    "veryEasy = [[1, 2, 3],\n",
    "            [4, 5, 6],\n",
    "            [7, 0, 8]]\n",
    "\n",
    "easy = [[1, 2, 0],\n",
    "        [4, 5, 3],\n",
    "        [7, 8, 6]]\n",
    "\n",
    "doable = [[0, 1, 2],\n",
    "          [4, 5, 3],\n",
    "          [7, 8, 6]]\n",
    "\n",
    "oh_boy = [[8, 7, 1],\n",
    "          [6, 0, 2],\n",
    "          [5, 4, 3]]\n",
    "\n",
    "eight_goal_state = [[1, 2, 3],\n",
    "                    [4, 5, 6],\n",
    "                    [7, 8, 0]]"
   ]
  },
  {
   "cell_type": "code",
   "execution_count": 3,
   "id": "bacc9fd2",
   "metadata": {},
   "outputs": [],
   "source": [
    "def main():\n",
    "    puzzle_mode = input(\"Welcome to an 8-Puzzle Solver. Type '1' to use a default puzzle, or '2' to create your own.\" + \n",
    "                        '\\n')\n",
    "    if puzzle_mode == \"1\":\n",
    "        select_and_init_algorithm(init_default_puzzle_mode())\n",
    "    if puzzle_mode == \"2\":\n",
    "        print(\"Enter your puzzle, using a zero to represent the blank. \" + \n",
    "              \"Please only enter valid 8-puzzles. Enter the puzzle demilimiting \" + \n",
    "              \"the numbers with a space. RET only when finished.\" + \n",
    "              '\\n')\n",
    "        \n",
    "        puzzle_row_one = input(\"Enter the first row: \")\n",
    "        puzzle_row_two = input(\"Enter the second row: \")\n",
    "        puzzle_row_three = input(\"Enter the third row: \")\n",
    "        puzzle_row_one = puzzle_row_one.split()\n",
    "        puzzle_row_two = puzzle_row_two.split()\n",
    "        puzzle_row_three = puzzle_row_three.split()\n",
    "\n",
    "        for i in range(0, 3):\n",
    "            puzzle_row_one[i] = int(puzzle_row_one[i])\n",
    "            puzzle_row_two[i] = int(puzzle_row_two[i])\n",
    "            puzzle_row_three[i] = int(puzzle_row_three[i])\n",
    "\n",
    "        user_puzzle = [puzzle_row_one, puzzle_row_two, puzzle_row_three]\n",
    "        select_and_init_algorithm(user_puzzle)\n",
    "    return"
   ]
  },
  {
   "cell_type": "code",
   "execution_count": 4,
   "id": "46ba375d",
   "metadata": {},
   "outputs": [],
   "source": [
    "def init_default_puzzle_mode():\n",
    "    selected_difficulty = input(\"You wish to use a default puzzle. Please enter a desired difficulty on a scale from 0 to 5.\" + \n",
    "                                '\\n')\n",
    "    if selected_difficulty == \"0\":\n",
    "        print(\"Difficulty of 'Trivial' selected.\")\n",
    "        return trivial\n",
    "    if selected_difficulty == \"1\":\n",
    "        print(\"Difficulty of 'Very Easy' selected.\")\n",
    "        return veryEasy\n",
    "    if selected_difficulty == \"2\":\n",
    "        print(\"Difficulty of 'Easy' selected.\")\n",
    "        return easy\n",
    "    if selected_difficulty == \"3\":\n",
    "        print(\"Difficulty of 'Doable' selected.\")\n",
    "        return doable\n",
    "    if selected_difficulty == \"4\":\n",
    "        print(\"Difficulty of 'Oh Boy' selected.\")\n",
    "        return oh_boy\n",
    "    if selected_difficulty == \"5\":\n",
    "        print(\"Difficulty of 'Impossible' selected.\")\n",
    "        return impossible"
   ]
  },
  {
   "cell_type": "code",
   "execution_count": 5,
   "id": "c90f10af",
   "metadata": {},
   "outputs": [],
   "source": [
    "def print_puzzle(puzzle):\n",
    "    for i in range(0, 3):\n",
    "        print(puzzle[i])\n",
    "    print('\\n')"
   ]
  },
  {
   "cell_type": "code",
   "execution_count": null,
   "id": "5f7ab7ae",
   "metadata": {},
   "outputs": [],
   "source": [
    "# accusantium = doloremque(laudantium)\n",
    "# print(totam rem aperiam, eaque ipsa quae ab illo inventore veritatis et quasi)\n",
    "# def de architecto beatae vitae dicta sunt explicabo.\n",
    "# max(voluptatem sequi, This examples show that if the input is enim ipsam voluptatem quia volupta"
   ]
  },
  {
   "cell_type": "code",
   "execution_count": 6,
   "id": "a5974c79",
   "metadata": {},
   "outputs": [],
   "source": [
    "def select_and_init_algorithm(puzzle):\n",
    "    algorithm = input(\"Select algorithm. (1) for Uniform Cost Search, (2) for the Misplaced Tile Heuristic, \"\n",
    "                      \"or (3) the Manhattan Distance Heuristic.\" + \n",
    "                      '\\n')\n",
    "    if algorithm == \"1\":\n",
    "        uniform_cost_search(puzzle, 0)\n",
    "    if algorithm == \"2\":\n",
    "        uniform_cost_search(puzzle, 1)"
   ]
  },
  {
   "cell_type": "code",
   "execution_count": 7,
   "id": "fac18025",
   "metadata": {},
   "outputs": [],
   "source": [
    "def uniform_cost_search(puzzle, heuristic):\n",
    "    starting_node = TreeNode.TreeNode(None, puzzle, 0, 0)\n",
    "    working_queue = []\n",
    "    repeated_states = dict()\n",
    "    min_heap_esque_queue.heappush(working_queue, starting_node)\n",
    "    num_nodes_expanded = 0\n",
    "    max_queue_size = 0\n",
    "    repeated_states[starting_node.board_to_tuple()] = \"This is the parent board\"\n",
    "    \n",
    "    stack_to_print = [] # the board states are stored in a stack\n",
    "\n",
    "    while len(working_queue) > 0:\n",
    "        max_queue_size = max(len(working_queue), max_queue_size)\n",
    "        # the node from the queue being considered/checked\n",
    "        node_from_queue = min_heap_esque_queue.heappop(working_queue)\n",
    "        repeated_states[node_from_queue.board_to_tuple()] = \"This can be anything\"\n",
    "        if node_from_queue.solved(): # check if the current state of the board is the solution\n",
    "            while len(stack_to_print) > 0: # the stack of nodes for the traceback\n",
    "                print_puzzle(stack_to_print.pop())\n",
    "            print(\"Number of nodes expanded:\", num_nodes_expanded)\n",
    "            print(\"Max queue size:\", max_queue_size)\n",
    "            return node_from_queue\n",
    "        \n",
    "        stack_to_print.append(node_from_queue.board)"
   ]
  },
  {
   "cell_type": "code",
   "execution_count": null,
   "id": "6f33e575",
   "metadata": {},
   "outputs": [],
   "source": [
    "# accusantium = doloremque(laudantium)\n",
    "# print(totam rem aperiam, eaque ipsa quae ab illo inventore veritatis et quasi)\n",
    "# def de architecto beatae vitae dicta sunt explicabo."
   ]
  },
  {
   "cell_type": "code",
   "execution_count": 8,
   "id": "7dcc0640",
   "metadata": {},
   "outputs": [
    {
     "name": "stdout",
     "output_type": "stream",
     "text": [
      "Difficulty of 'Trivial' selected.\n"
     ]
    },
    {
     "ename": "TypeError",
     "evalue": "__init__() takes 1 positional argument but 5 were given",
     "output_type": "error",
     "traceback": [
      "\u001b[0;31m---------------------------------------------------------------------------\u001b[0m",
      "\u001b[0;31mTypeError\u001b[0m                                 Traceback (most recent call last)",
      "Cell \u001b[0;32mIn[8], line 1\u001b[0m\n\u001b[0;32m----> 1\u001b[0m \u001b[43mmain\u001b[49m\u001b[43m(\u001b[49m\u001b[43m)\u001b[49m\n",
      "Cell \u001b[0;32mIn[3], line 5\u001b[0m, in \u001b[0;36mmain\u001b[0;34m()\u001b[0m\n\u001b[1;32m      2\u001b[0m puzzle_mode \u001b[38;5;241m=\u001b[39m \u001b[38;5;28minput\u001b[39m(\u001b[38;5;124m\"\u001b[39m\u001b[38;5;124mWelcome to an 8-Puzzle Solver. Type \u001b[39m\u001b[38;5;124m'\u001b[39m\u001b[38;5;124m1\u001b[39m\u001b[38;5;124m'\u001b[39m\u001b[38;5;124m to use a default puzzle, or \u001b[39m\u001b[38;5;124m'\u001b[39m\u001b[38;5;124m2\u001b[39m\u001b[38;5;124m'\u001b[39m\u001b[38;5;124m to create your own.\u001b[39m\u001b[38;5;124m\"\u001b[39m \u001b[38;5;241m+\u001b[39m \n\u001b[1;32m      3\u001b[0m                     \u001b[38;5;124m'\u001b[39m\u001b[38;5;130;01m\\n\u001b[39;00m\u001b[38;5;124m'\u001b[39m)\n\u001b[1;32m      4\u001b[0m \u001b[38;5;28;01mif\u001b[39;00m puzzle_mode \u001b[38;5;241m==\u001b[39m \u001b[38;5;124m\"\u001b[39m\u001b[38;5;124m1\u001b[39m\u001b[38;5;124m\"\u001b[39m:\n\u001b[0;32m----> 5\u001b[0m     \u001b[43mselect_and_init_algorithm\u001b[49m\u001b[43m(\u001b[49m\u001b[43minit_default_puzzle_mode\u001b[49m\u001b[43m(\u001b[49m\u001b[43m)\u001b[49m\u001b[43m)\u001b[49m\n\u001b[1;32m      6\u001b[0m \u001b[38;5;28;01mif\u001b[39;00m puzzle_mode \u001b[38;5;241m==\u001b[39m \u001b[38;5;124m\"\u001b[39m\u001b[38;5;124m2\u001b[39m\u001b[38;5;124m\"\u001b[39m:\n\u001b[1;32m      7\u001b[0m     \u001b[38;5;28mprint\u001b[39m(\u001b[38;5;124m\"\u001b[39m\u001b[38;5;124mEnter your puzzle, using a zero to represent the blank. \u001b[39m\u001b[38;5;124m\"\u001b[39m \u001b[38;5;241m+\u001b[39m \n\u001b[1;32m      8\u001b[0m           \u001b[38;5;124m\"\u001b[39m\u001b[38;5;124mPlease only enter valid 8-puzzles. Enter the puzzle demilimiting \u001b[39m\u001b[38;5;124m\"\u001b[39m \u001b[38;5;241m+\u001b[39m \n\u001b[1;32m      9\u001b[0m           \u001b[38;5;124m\"\u001b[39m\u001b[38;5;124mthe numbers with a space. RET only when finished.\u001b[39m\u001b[38;5;124m\"\u001b[39m \u001b[38;5;241m+\u001b[39m \n\u001b[1;32m     10\u001b[0m           \u001b[38;5;124m'\u001b[39m\u001b[38;5;130;01m\\n\u001b[39;00m\u001b[38;5;124m'\u001b[39m)\n",
      "Cell \u001b[0;32mIn[6], line 6\u001b[0m, in \u001b[0;36mselect_and_init_algorithm\u001b[0;34m(puzzle)\u001b[0m\n\u001b[1;32m      2\u001b[0m algorithm \u001b[38;5;241m=\u001b[39m \u001b[38;5;28minput\u001b[39m(\u001b[38;5;124m\"\u001b[39m\u001b[38;5;124mSelect algorithm. (1) for Uniform Cost Search, (2) for the Misplaced Tile Heuristic, \u001b[39m\u001b[38;5;124m\"\u001b[39m\n\u001b[1;32m      3\u001b[0m                   \u001b[38;5;124m\"\u001b[39m\u001b[38;5;124mor (3) the Manhattan Distance Heuristic.\u001b[39m\u001b[38;5;124m\"\u001b[39m \u001b[38;5;241m+\u001b[39m \n\u001b[1;32m      4\u001b[0m                   \u001b[38;5;124m'\u001b[39m\u001b[38;5;130;01m\\n\u001b[39;00m\u001b[38;5;124m'\u001b[39m)\n\u001b[1;32m      5\u001b[0m \u001b[38;5;28;01mif\u001b[39;00m algorithm \u001b[38;5;241m==\u001b[39m \u001b[38;5;124m\"\u001b[39m\u001b[38;5;124m1\u001b[39m\u001b[38;5;124m\"\u001b[39m:\n\u001b[0;32m----> 6\u001b[0m     \u001b[43muniform_cost_search\u001b[49m\u001b[43m(\u001b[49m\u001b[43mpuzzle\u001b[49m\u001b[43m,\u001b[49m\u001b[43m \u001b[49m\u001b[38;5;241;43m0\u001b[39;49m\u001b[43m)\u001b[49m\n\u001b[1;32m      7\u001b[0m \u001b[38;5;28;01mif\u001b[39;00m algorithm \u001b[38;5;241m==\u001b[39m \u001b[38;5;124m\"\u001b[39m\u001b[38;5;124m2\u001b[39m\u001b[38;5;124m\"\u001b[39m:\n\u001b[1;32m      8\u001b[0m     uniform_cost_search(puzzle, \u001b[38;5;241m1\u001b[39m)\n",
      "Cell \u001b[0;32mIn[7], line 2\u001b[0m, in \u001b[0;36muniform_cost_search\u001b[0;34m(puzzle, heuristic)\u001b[0m\n\u001b[1;32m      1\u001b[0m \u001b[38;5;28;01mdef\u001b[39;00m \u001b[38;5;21muniform_cost_search\u001b[39m(puzzle, heuristic):\n\u001b[0;32m----> 2\u001b[0m     starting_node \u001b[38;5;241m=\u001b[39m \u001b[43mTreeNode\u001b[49m\u001b[38;5;241;43m.\u001b[39;49m\u001b[43mTreeNode\u001b[49m\u001b[43m(\u001b[49m\u001b[38;5;28;43;01mNone\u001b[39;49;00m\u001b[43m,\u001b[49m\u001b[43m \u001b[49m\u001b[43mpuzzle\u001b[49m\u001b[43m,\u001b[49m\u001b[43m \u001b[49m\u001b[38;5;241;43m0\u001b[39;49m\u001b[43m,\u001b[49m\u001b[43m \u001b[49m\u001b[38;5;241;43m0\u001b[39;49m\u001b[43m)\u001b[49m\n\u001b[1;32m      3\u001b[0m     working_queue \u001b[38;5;241m=\u001b[39m []\n\u001b[1;32m      4\u001b[0m     repeated_states \u001b[38;5;241m=\u001b[39m \u001b[38;5;28mdict\u001b[39m()\n",
      "\u001b[0;31mTypeError\u001b[0m: __init__() takes 1 positional argument but 5 were given"
     ]
    }
   ],
   "source": [
    "main()"
   ]
  }
 ],
 "metadata": {
  "kernelspec": {
   "display_name": "AI205project01",
   "language": "python",
   "name": "python3"
  },
  "language_info": {
   "codemirror_mode": {
    "name": "ipython",
    "version": 3
   },
   "file_extension": ".py",
   "mimetype": "text/x-python",
   "name": "python",
   "nbconvert_exporter": "python",
   "pygments_lexer": "ipython3",
   "version": "3.9.19"
  }
 },
 "nbformat": 4,
 "nbformat_minor": 5
}
